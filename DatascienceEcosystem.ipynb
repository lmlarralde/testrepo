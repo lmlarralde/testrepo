{
 "cells": [
  {
   "cell_type": "markdown",
   "id": "acd48f56-0c93-4b76-b29f-40638697ad02",
   "metadata": {},
   "source": [
    "# Data Science Tools and Ecosystem"
   ]
  },
  {
   "cell_type": "markdown",
   "id": "d8609b89-7679-4260-924e-d52eaacfbd71",
   "metadata": {
    "tags": []
   },
   "source": [
    "### In this notebook, Data Science Tools and Ecosystem are summarized"
   ]
  },
  {
   "cell_type": "markdown",
   "id": "9af9a283-9f6a-4b85-be96-cce52a138ac2",
   "metadata": {},
   "source": [
    "**Objectives:**\n",
    "- Markdown Headings\n",
    "- Ordered Lists\n",
    "- Arithmetic Expressions in Python\n"
   ]
  },
  {
   "cell_type": "markdown",
   "id": "8acf25a9-fd82-499f-a7c5-99ca7a2448ad",
   "metadata": {},
   "source": [
    "### Some of the popular languages that Data Scientists use are\n",
    "1. Python\n",
    "2. R\n",
    "3. Java\n",
    "4. C++\n",
    "5. Javascript\n"
   ]
  },
  {
   "cell_type": "markdown",
   "id": "2f53895a-70a7-41eb-aafa-d231b2d91023",
   "metadata": {},
   "source": [
    "### Some of the commonly used libraries used by Data Scientists include:\n",
    "#### Scientific Computiing\n",
    "1. Pandas\n",
    "2. Numpy\n",
    "#### Visualization\n",
    "1. Matplotlib\n",
    "2. seaborn\n",
    "#### Machine Learning and Deep Learning\n",
    "1. Scikit-learn\n",
    "2. Keras\n",
    "3. TensorFLox\n",
    "4. Pytorch"
   ]
  },
  {
   "cell_type": "markdown",
   "id": "b3fd4e27-be24-497f-8cf5-a5e42ffbf0bc",
   "metadata": {},
   "source": [
    "|Data Science Tool|\n",
    "-----------\n",
    "|JupyterLab|\n",
    "|VS Code|\n",
    "|Google Colab|\n"
   ]
  },
  {
   "cell_type": "markdown",
   "id": "3748da2b-7b55-4a59-bf0a-2613a5a5db77",
   "metadata": {},
   "source": [
    "### Below are a few examples of evalutaing arithmetic expressions in Pyhon\n"
   ]
  },
  {
   "cell_type": "code",
   "execution_count": 3,
   "id": "834661ed-e377-41a6-a879-1e21f3f815be",
   "metadata": {
    "tags": []
   },
   "outputs": [
    {
     "data": {
      "text/plain": [
       "17"
      ]
     },
     "execution_count": 3,
     "metadata": {},
     "output_type": "execute_result"
    }
   ],
   "source": [
    "# This is a simple arithmetic expression to multiply then add integers\n",
    "(3*4)+5"
   ]
  },
  {
   "cell_type": "code",
   "execution_count": 7,
   "id": "6080e96a-dca1-4527-a47d-991542afd390",
   "metadata": {
    "tags": []
   },
   "outputs": [
    {
     "name": "stdout",
     "output_type": "stream",
     "text": [
      "200 minutes is equal to  3.3333333333333335 hours\n"
     ]
    }
   ],
   "source": [
    "# this will convert 200 minutes to hours by dividing by 60\n",
    "minutes = 200\n",
    "hours = 200 / 60\n",
    "print(minutes, \"minutes is equal to \", hours ,\"hours\")"
   ]
  },
  {
   "cell_type": "markdown",
   "id": "98ebcc3b-753c-4365-a3f5-33f814aa8d44",
   "metadata": {},
   "source": [
    "## Author\n",
    "Luis Larralde"
   ]
  },
  {
   "cell_type": "code",
   "execution_count": null,
   "id": "0f481022-5665-4c89-abfe-e8cc5d03fd77",
   "metadata": {},
   "outputs": [],
   "source": []
  }
 ],
 "metadata": {
  "kernelspec": {
   "display_name": "Python",
   "language": "python",
   "name": "conda-env-python-py"
  },
  "language_info": {
   "codemirror_mode": {
    "name": "ipython",
    "version": 3
   },
   "file_extension": ".py",
   "mimetype": "text/x-python",
   "name": "python",
   "nbconvert_exporter": "python",
   "pygments_lexer": "ipython3",
   "version": "3.7.12"
  }
 },
 "nbformat": 4,
 "nbformat_minor": 5
}
